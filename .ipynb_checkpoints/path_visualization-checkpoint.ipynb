{
 "cells": [
  {
   "cell_type": "code",
   "execution_count": 1,
   "id": "second-illustration",
   "metadata": {},
   "outputs": [
    {
     "data": {
      "text/plain": [
       "42"
      ]
     },
     "execution_count": 1,
     "metadata": {},
     "output_type": "execute_result"
    }
   ],
   "source": [
    "from queue import PriorityQueue\n",
    "from graph_builder import build_graph_for_robot_data\n",
    "\n",
    "\n",
    "# Manhattan distance\n",
    "def heuristic(a, b):\n",
    "   return abs(a[0] - b[0]) + abs(a[1] - b[1])\n",
    "\n",
    "\n",
    "def find_shortest_path(graph, start, goal):\n",
    "    frontier = PriorityQueue()\n",
    "    frontier.put(start, 0)\n",
    "    came_from = dict()\n",
    "    cost_so_far = dict()\n",
    "    came_from[start] = None\n",
    "    cost_so_far[start] = 0\n",
    "    \n",
    "    while not frontier.empty():\n",
    "        current = frontier.get()\n",
    "        \n",
    "        if current == goal:\n",
    "            break\n",
    "\n",
    "        for next in graph.neighbors(current):\n",
    "            new_cost = cost_so_far[current] + graph.cost(current, next)\n",
    "            if next not in cost_so_far or new_cost < cost_so_far[next]:\n",
    "                cost_so_far[next] = new_cost\n",
    "                priority = new_cost + heuristic(goal, next)\n",
    "                frontier.put(next, priority)\n",
    "                came_from[next] = current\n",
    "    \n",
    "    path = [goal]\n",
    "    while path[-1] != start:\n",
    "        path.append(came_from[path[-1]])\n",
    "    path.reverse()\n",
    "    return path, cost_so_far[goal]\n",
    "    \n",
    "                \n",
    "\n",
    "robot_data = {\n",
    "    'start': [0, 0],\n",
    "    'finish': [10, 10],\n",
    "    'obstacles': [\n",
    "        [[2, 2], [2, 4], [3, 3]],\n",
    "        [[5, 4], [4, 6], [6, 5], [7, 4]],\n",
    "        [[4, 4], [3.5, 4], [2, 6], [3, 7]],\n",
    "        # [[20, 1], [10, 2], [9, 4], [6, 10]]\n",
    "    ]\n",
    "}\n",
    "graph = build_graph_for_robot_data(robot_data)\n",
    "# result = find_shortest_path(graph, tuple(robot_data['start']), tuple(robot_data['finish']))\n",
    "# print(result)\n",
    "len(graph.vertices())"
   ]
  },
  {
   "cell_type": "code",
   "execution_count": 3,
   "id": "subsequent-recycling",
   "metadata": {},
   "outputs": [
    {
     "data": {
      "image/png": "[encoded data removed]",
      "text/plain": [
       "<Figure size 432x288 with 1 Axes>"
      ]
     },
     "metadata": {
      "needs_background": "light"
     },
     "output_type": "display_data"
    }
   ],
   "source": [
    "%matplotlib inline\n",
    "from matplotlib import pyplot as plt\n",
    "\n",
    "for v in graph.vertices():\n",
    "    plt.plot(v[0], v[1], color='purple', marker='o', markersize=2)\n",
    "\n",
    "plt.plot(robot_data['start'][0], robot_data['start'][1], color='green', marker='o', markersize=6)\n",
    "plt.plot(robot_data['finish'][0], robot_data['finish'][1], color='red', marker='o', markersize=6)\n",
    "for obstacle in robot_data['obstacles']:\n",
    "    for pindex in range(len(obstacle)):\n",
    "        plt.plot(*zip(obstacle[pindex-1], obstacle[pindex]), color='green')\n",
    "path, cost = find_shortest_path(graph, tuple(robot_data['start']), tuple(robot_data['finish']))\n",
    "for pindex in range(1, len(path)):\n",
    "    plt.plot(*zip(path[pindex-1], path[pindex]), color='blue')\n",
    "plt.show()"
   ]
  },
  {
   "cell_type": "code",
   "execution_count": 10,
   "id": "laughing-infection",
   "metadata": {},
   "outputs": [
    {
     "data": {
      "text/plain": [
       "[1, 2]"
      ]
     },
     "execution_count": 10,
     "metadata": {},
     "output_type": "execute_result"
    }
   ],
   "source": [
    "import numpy as np\n",
    "l = np.array([1, 2]).tolist()\n",
    "l"
   ]
  },
  {
   "cell_type": "code",
   "execution_count": null,
   "id": "false-nation",
   "metadata": {},
   "outputs": [],
   "source": []
  }
 ],
 "metadata": {
  "kernelspec": {
   "display_name": "Python 3",
   "language": "python",
   "name": "python3"
  },
  "language_info": {
   "codemirror_mode": {
    "name": "ipython",
    "version": 3
   },
   "file_extension": ".py",
   "mimetype": "text/x-python",
   "name": "python",
   "nbconvert_exporter": "python",
   "pygments_lexer": "ipython3",
   "version": "3.8.5"
  }
 },
 "nbformat": 4,
 "nbformat_minor": 5
}
