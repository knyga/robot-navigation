{
 "cells": [
  {
   "cell_type": "code",
   "execution_count": 8,
   "id": "second-illustration",
   "metadata": {},
   "outputs": [
    {
     "data": {
      "text/plain": [
       "<module 'a_star' from '/Users/oknyga/www/personal/linear-algebra/robot-navigation/a_star.py'>"
      ]
     },
     "execution_count": 8,
     "metadata": {},
     "output_type": "execute_result"
    }
   ],
   "source": [
    "from graph_builder import build_graph_for_robot_data\n",
    "from a_star import find_shortest_path\n",
    "import importlib\n",
    "import sys\n",
    "importlib.reload(sys.modules['graph'])\n",
    "importlib.reload(sys.modules['interception'])\n",
    "importlib.reload(sys.modules['graph_builder'])\n",
    "importlib.reload(sys.modules['a_star'])"
   ]
  },
  {
   "cell_type": "code",
   "execution_count": 9,
   "id": "elegant-appendix",
   "metadata": {},
   "outputs": [
    {
     "data": {
      "text/plain": [
       "55"
      ]
     },
     "execution_count": 9,
     "metadata": {},
     "output_type": "execute_result"
    }
   ],
   "source": [
    "# robot_data = {\n",
    "#     'start': [0, 0],\n",
    "#     'finish': [10, 10],\n",
    "#     'obstacles': [\n",
    "#         [[2, 2], [2, 4], [3, 3]],\n",
    "#         [[5, 4], [4, 6], [6, 5], [7, 4]],\n",
    "#         [[4, 4], [3.5, 4], [2, 6], [3, 7]],\n",
    "#         [[20, 1], [10, 2], [9, 4], [6, 10]],\n",
    "#         [[5, 0], [7.5, 1], [8, 3], [7, 2.5], [4, 2.5]]\n",
    "#     ]\n",
    "# }\n",
    "\n",
    "import json\n",
    "with open('tests/robot-test-5.json') as json_file:\n",
    "    robot_data = json.load(json_file)\n",
    "    \n",
    "robot_data = {\n",
    "    'start': [11, 10],\n",
    "    'finish': [3.14, 3.14],\n",
    "    'obstacles': [\n",
    "        [[1, 8], [1, 11], [5, 11], [3, 7]],\n",
    "        [[6, 9], [5, 12], [7, 13]],\n",
    "        [[8, 7], [7, 11], [9, 12]],\n",
    "        [[10, 10], [10, 12], [12, 12]],\n",
    "        [[2, 3], [1, 7], [3, 6], [3, 3]],\n",
    "        [[4, 6], [4, 8], [7, 8], [7, 6]],\n",
    "        [[9, 4], [9, 10], [11, 4]],\n",
    "        [[12, 6], [10, 9], [13, 10]],\n",
    "        [[1, 0], [0, 1], [0, 2], [2, 2]],\n",
    "        [[2, 1], [6, 2], [7, -1]],\n",
    "        [[4, 2],[4, 5], [5, 5], [5, 2]],\n",
    "        [[6, 4], [6, 5], [8, 5], [8, 4]],\n",
    "        [[6, 3], [11, 3], [11, -2]],\n",
    "        [[12, 2], [12, 5], [13, 6], [13, 1]]\n",
    "    ]}\n",
    "graph = build_graph_for_robot_data(robot_data)\n",
    "# # result = find_shortest_path(graph, tuple(robot_data['start']), tuple(robot_data['finish']))\n",
    "# # print(result)\n",
    "len(graph.vertices())"
   ]
  },
  {
   "cell_type": "code",
   "execution_count": 10,
   "id": "subsequent-recycling",
   "metadata": {},
   "outputs": [
    {
     "data": {
      "image/png": "[encoded data removed]",
      "text/plain": [
       "<Figure size 432x288 with 1 Axes>"
      ]
     },
     "metadata": {
      "needs_background": "light"
     },
     "output_type": "display_data"
    }
   ],
   "source": [
    "%matplotlib inline\n",
    "from matplotlib import pyplot as plt\n",
    "\n",
    "for v in graph.vertices():\n",
    "    plt.plot(v[0], v[1], color='purple', marker='o', markersize=2)\n",
    "\n",
    "plt.plot(robot_data['start'][0], robot_data['start'][1], color='green', marker='o', markersize=6)\n",
    "plt.plot(robot_data['finish'][0], robot_data['finish'][1], color='red', marker='o', markersize=6)\n",
    "for obstacle in robot_data['obstacles']:\n",
    "    for pindex in range(len(obstacle)):\n",
    "        plt.plot(*zip(obstacle[pindex-1], obstacle[pindex]), color='green')\n",
    "path, cost = find_shortest_path(graph, tuple(robot_data['start']), tuple(robot_data['finish']))\n",
    "for pindex in range(1, len(path)):\n",
    "    plt.plot(*zip(path[pindex-1], path[pindex]), color='blue')\n",
    "plt.show()"
   ]
  },
  {
   "cell_type": "code",
   "execution_count": null,
   "id": "false-nation",
   "metadata": {},
   "outputs": [],
   "source": []
  }
 ],
 "metadata": {
  "kernelspec": {
   "display_name": "Python 3",
   "language": "python",
   "name": "python3"
  },
  "language_info": {
   "codemirror_mode": {
    "name": "ipython",
    "version": 3
   },
   "file_extension": ".py",
   "mimetype": "text/x-python",
   "name": "python",
   "nbconvert_exporter": "python",
   "pygments_lexer": "ipython3",
   "version": "3.8.5"
  }
 },
 "nbformat": 4,
 "nbformat_minor": 5
}
