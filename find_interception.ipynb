{
 "cells": [
  {
   "cell_type": "code",
   "execution_count": 2,
   "id": "touched-politics",
   "metadata": {},
   "outputs": [],
   "source": [
    "%matplotlib inline\n",
    "import numpy as np\n",
    "np.seterr(divide='ignore', invalid='ignore')\n",
    "from matplotlib import pyplot as plt"
   ]
  },
  {
   "cell_type": "code",
   "execution_count": 4,
   "id": "conventional-samba",
   "metadata": {},
   "outputs": [
    {
     "name": "stdout",
     "output_type": "stream",
     "text": [
      "[10.71428571  5.        ]\n"
     ]
    },
    {
     "data": {
      "image/png": "[encoded data removed]",
      "text/plain": [
       "<Figure size 432x288 with 1 Axes>"
      ]
     },
     "metadata": {
      "needs_background": "light"
     },
     "output_type": "display_data"
    }
   ],
   "source": [
    "plt.axis('equal')\n",
    "plt.grid(True, which='both')\n",
    "\n",
    "class DoNotIntercept(Exception):\n",
    "    pass\n",
    "# https://en.wikipedia.org/wiki/Line%E2%80%93line_intersection (Given two points on each line segment)\n",
    "# generalized aproach for vectors which calculates exact point\n",
    "def calc_interception_point(line1, line2): \n",
    "    v1, v2 = line1\n",
    "    v3, v4 = line2\n",
    "    t_denominator = np.linalg.det(np.matrix([v2-v1, v4-v3]))\n",
    "    if t_denominator == 0:\n",
    "        raise DoNotIntercept\n",
    "    t_numerator = np.linalg.det(np.matrix([v3-v1, v4-v3]))\n",
    "    if (t_numerator > 0 and t_denominator < 0) or\\\n",
    "        (t_numerator < 0 and t_denominator > 0) or\\\n",
    "        (t_numerator > t_denominator and t_numerator > 0) or\\\n",
    "        (t_numerator < t_denominator and t_numerator < 0):\n",
    "        raise DoNotIntercept\n",
    "    u_denominator = np.linalg.det(np.matrix([v2-v1, v4-v3]))\n",
    "    if u_denominator == 0:\n",
    "        raise DoNotIntercept\n",
    "    u_numerator = np.linalg.det(np.matrix([v1-v2, v3-v1]))\n",
    "    if (u_numerator > 0 and u_denominator < 0) or\\\n",
    "        (u_numerator < 0 and u_denominator > 0) or\\\n",
    "        (u_numerator > u_denominator and u_numerator > 0) or\\\n",
    "        (u_numerator < u_denominator and u_numerator < 0):\n",
    "        raise DoNotIntercept\n",
    "    t = t_numerator / t_denominator\n",
    "    return v1 + t*(v2-v1)\n",
    "\n",
    "line1 = np.array([\n",
    "    [13, 3],\n",
    "    [5, 10]\n",
    "])\n",
    "line2 = np.array([\n",
    "    [0, 5],\n",
    "    [100, 5],\n",
    "])\n",
    "\n",
    "plt.plot(*line1.T, color='purple')\n",
    "plt.plot(*line2.T, color='green')\n",
    "\n",
    "try:\n",
    "    print(calc_interception_point(line1, line2))\n",
    "except DoNotIntercept:\n",
    "    print('do not intercept')"
   ]
  },
  {
   "cell_type": "code",
   "execution_count": null,
   "id": "front-tucson",
   "metadata": {},
   "outputs": [],
   "source": []
  }
 ],
 "metadata": {
  "kernelspec": {
   "display_name": "Python 3",
   "language": "python",
   "name": "python3"
  },
  "language_info": {
   "codemirror_mode": {
    "name": "ipython",
    "version": 3
   },
   "file_extension": ".py",
   "mimetype": "text/x-python",
   "name": "python",
   "nbconvert_exporter": "python",
   "pygments_lexer": "ipython3",
   "version": "3.8.5"
  }
 },
 "nbformat": 4,
 "nbformat_minor": 5
}
